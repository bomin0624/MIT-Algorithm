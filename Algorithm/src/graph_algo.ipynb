{
  "cells": [
    {
      "cell_type": "code",
      "execution_count": 3,
      "metadata": {
        "id": "BpOtR1o4X9G-"
      },
      "outputs": [],
      "source": [
        "# bfs algo\n",
        "# Analysis: θ(V+E)\n",
        "from collections import deque\n",
        "def bfs(graph,start):\n",
        "  parent = {start:None}\n",
        "  level = {start:0}\n",
        "  queue = deque([start])\n",
        "  while queue:\n",
        "    vertex = queue.popleft()\n",
        "    for i in graph[vertex]:\n",
        "      if i not in level:\n",
        "        level[i] = level[vertex]+1\n",
        "        queue.append(i)\n",
        "        parent[i] = vertex\n",
        "  return parent, level"
      ]
    },
    {
      "cell_type": "code",
      "execution_count": 2,
      "metadata": {
        "id": "fc9_JtzYdyTM"
      },
      "outputs": [],
      "source": [
        "#dfs algo\n",
        "# Analysis: θ(V+E)\n",
        "def dfs(graph,start):\n",
        "  parent = {start:None}\n",
        "  queue = [start]\n",
        "  dfs_visit(graph,start,parent,queue)\n",
        "  return parent,queue\n",
        "\n",
        "def dfs_visit(graph,start,parent,queue):\n",
        "  for i in graph[start]:\n",
        "    if i not in parent:\n",
        "      parent[i] = start\n",
        "      queue.append(i)\n",
        "      dfs_visit(graph,i,parent,queue)"
      ]
    },
    {
      "cell_type": "code",
      "execution_count": 4,
      "metadata": {
        "colab": {
          "base_uri": "https://localhost:8080/"
        },
        "id": "GMVVERTQfRVt",
        "outputId": "479ba5ce-39fa-41bb-b217-090958ec203a"
      },
      "outputs": [
        {
          "name": "stdout",
          "output_type": "stream",
          "text": [
            "DFS algorithm parents and traversal: ({'A': None, 'B': 'A', 'D': 'B', 'C': 'D', 'E': 'D'}, ['A', 'B', 'D', 'C', 'E'])\n",
            "BFS algorithm parents and level: ({'A': None, 'B': 'A', 'C': 'A', 'D': 'B', 'E': 'B'}, {'A': 0, 'B': 1, 'C': 1, 'D': 2, 'E': 2})\n"
          ]
        }
      ],
      "source": [
        "graph = {\n",
        "    'A': ['B', 'C'],\n",
        "    'B': ['A', 'D', 'E'],\n",
        "    'C': ['A', 'D'],\n",
        "    'D': ['B', 'C', 'E'],\n",
        "    'E': ['B', 'D']\n",
        "}\n",
        "print(\"DFS algorithm parents and traversal:\",dfs(graph,'A'))\n",
        "print(\"BFS algorithm parents and level:\",bfs(graph,'A'))"
      ]
    }
  ],
  "metadata": {
    "colab": {
      "name": "graph_algo.ipynb",
      "provenance": []
    },
    "kernelspec": {
      "display_name": "Python 3",
      "name": "python3"
    },
    "language_info": {
      "codemirror_mode": {
        "name": "ipython",
        "version": 3
      },
      "file_extension": ".py",
      "mimetype": "text/x-python",
      "name": "python",
      "nbconvert_exporter": "python",
      "pygments_lexer": "ipython3",
      "version": "3.9.9"
    }
  },
  "nbformat": 4,
  "nbformat_minor": 0
}
