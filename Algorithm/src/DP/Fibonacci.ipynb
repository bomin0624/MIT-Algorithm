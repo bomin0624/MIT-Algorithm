{
 "cells": [
  {
   "cell_type": "code",
   "execution_count": 1,
   "metadata": {
    "collapsed": true
   },
   "outputs": [],
   "source": [
    "# Naive recursive algorithm (Exponential time)"
   ]
  },
  {
   "cell_type": "code",
   "execution_count": 2,
   "metadata": {
    "collapsed": true
   },
   "outputs": [],
   "source": [
    "def fib(n):\n",
    "  if n == 1:\n",
    "    return 1\n",
    "  elif n == 2:\n",
    "    return 1\n",
    "  else:\n",
    "    return fib(n-1)+ fib(n-2)"
   ]
  },
  {
   "cell_type": "code",
   "execution_count": 3,
   "metadata": {
    "collapsed": true
   },
   "outputs": [],
   "source": [
    "# Memorized DP algorithm (Linear time)"
   ]
  },
  {
   "cell_type": "code",
   "execution_count": 4,
   "metadata": {
    "collapsed": true
   },
   "outputs": [],
   "source": [
    "memo = {}\n",
    "def fibnoacci(n):\n",
    "  if n in memo:\n",
    "    return memo[n]\n",
    "  if n <=2:\n",
    "    return 1\n",
    "  else:\n",
    "    f = fibnoacci(n-1) + fibnoacci(n-2)\n",
    "  memo[n] = f    \n",
    "  return f"
   ]
  },
  {
   "cell_type": "code",
   "execution_count": 5,
   "metadata": {
    "collapsed": true
   },
   "outputs": [],
   "source": [
    "# Button-up DP Algorithm (Linear time)"
   ]
  },
  {
   "cell_type": "code",
   "execution_count": null,
   "metadata": {
    "collapsed": true
   },
   "outputs": [],
   "source": [
    "fib = {}\n",
    "def fibnoacci_button_up(n):\n",
    "  for k in range(1,n+1):\n",
    "    if k<=2:\n",
    "        f = 1\n",
    "    else:\n",
    "        f = fib[k-1] + fib[k-2]      \n",
    "    fib[k] = f\n",
    "  return fib[n] "
   ]
  }
 ],
 "metadata": {
  "kernelspec": {
   "display_name": "Python 3",
   "language": "python",
   "name": "python3"
  },
  "language_info": {
   "codemirror_mode": {
    "name": "ipython",
    "version": 3
   },
   "file_extension": ".py",
   "mimetype": "text/x-python",
   "name": "python",
   "nbconvert_exporter": "python",
   "pygments_lexer": "ipython3",
   "version": "3.6.0"
  }
 },
 "nbformat": 4,
 "nbformat_minor": 2
}
